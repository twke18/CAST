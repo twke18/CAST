{
 "cells": [
  {
   "cell_type": "code",
   "execution_count": null,
   "id": "f3e48b3d-19df-40fd-a85c-d6e675e1f144",
   "metadata": {},
   "outputs": [],
   "source": [
    "%matplotlib inline\n",
    "import os\n",
    "import sys\n",
    "from functools import partial\n",
    "\n",
    "import torch\n",
    "import torchvision.transforms as T\n",
    "from torchvision.transforms.functional import InterpolationMode\n",
    "from open_clip import create_model_and_transforms, get_tokenizer\n",
    "\n",
    "from dataset import PartImageNetWithMask, PredictedMask\n",
    "from utils import TextFeatures, get_masked_pred_c, get_masked_pred_f\n",
    "from utils import create_colormap, visualize_img, visualize_seg"
   ]
  },
  {
   "cell_type": "code",
   "execution_count": null,
   "id": "d3b3c04a-e1c9-48f3-8426-c5e6f0211b4b",
   "metadata": {},
   "outputs": [],
   "source": [
    "device = \"cuda:0\"\n",
    "torch.cuda.set_device(device)\n",
    "\n",
    "clip, _, clip_transform = create_model_and_transforms('ViT-B-16', pretrained='openai')\n",
    "tokenizer = get_tokenizer('ViT-B-16')\n",
    "\n",
    "clip = clip.to(device)\n",
    "\n",
    "normalize = clip_transform.transforms[-1]\n",
    "img_transform = T.Compose([\n",
    "    T.Resize(224, interpolation=InterpolationMode.BICUBIC),\n",
    "    T.CenterCrop([224, 224]),\n",
    "])\n",
    "seg_transform = T.Compose([\n",
    "    T.Resize(224, interpolation=InterpolationMode.NEAREST),\n",
    "    T.CenterCrop([224, 224]),\n",
    "])"
   ]
  },
  {
   "cell_type": "code",
   "execution_count": null,
   "id": "cb2e3a03-f1fa-4681-971a-f984be270e76",
   "metadata": {},
   "outputs": [],
   "source": [
    "DATA_ROOT = '../data/PartImageNet/'\n",
    "SAVE_ROOT = '../pred_segs/'\n",
    "\n",
    "model_name = \"cast_base\"\n",
    "# model_name = \"vit_conv_base\"\n",
    "\n",
    "img_root = os.path.join(DATA_ROOT, 'images/val')\n",
    "ano_root = os.path.join(DATA_ROOT, 'annotations/val.json')\n",
    "\n",
    "pred_c_root = os.path.join(SAVE_ROOT, model_name, 'level4')\n",
    "pred_f_root = os.path.join(SAVE_ROOT, model_name, 'level3')\n",
    "\n",
    "# Output: image, seg_c, seg_f\n",
    "dataset = PartImageNetWithMask(img_root, ano_root, clip_transform, seg_transform)\n",
    "\n",
    "# Predicted segments by CAST or ViT\n",
    "mask_dataset_c = PredictedMask(pred_c_root, ano_root)\n",
    "mask_dataset_f = PredictedMask(pred_f_root, ano_root)"
   ]
  },
  {
   "cell_type": "code",
   "execution_count": null,
   "id": "992cb5c8-54fa-493c-9e90-521ccd5be5bf",
   "metadata": {},
   "outputs": [],
   "source": [
    "print(dataset.classname_c)\n",
    "print(dataset.classname_f)\n",
    "\n",
    "text_features = TextFeatures(clip, tokenizer,\n",
    "                             dataset.classname_c,\n",
    "                             dataset.classname_f)\n",
    "\n",
    "names = {}\n",
    "for c in dataset.classname_c:\n",
    "    names[c] = [f for f in dataset.classname_f if c in f]\n",
    "cmap_c, cmap_f = create_colormap(names)"
   ]
  },
  {
   "cell_type": "code",
   "execution_count": null,
   "id": "7dc554bb-feb7-485b-b55a-d8de1c3a9359",
   "metadata": {},
   "outputs": [],
   "source": [
    "index = 1300\n",
    "\n",
    "img, seg_c, seg_f = dataset[index]\n",
    "\n",
    "mask_c = mask_dataset_c[index]\n",
    "mask_f = mask_dataset_f[index]\n",
    "\n",
    "pred_c = get_masked_pred_c(clip, text_features, img, mask_c)\n",
    "pred_f = get_masked_pred_f(clip, text_features, img, mask_f, pred_c)\n",
    "\n",
    "print('Coarse labels')\n",
    "for i in pred_c.unique().int():\n",
    "    if i < len(dataset.classname_c):\n",
    "        print(int(i), dataset.classname_c[i])\n",
    "\n",
    "print('Fine labels')\n",
    "for i in pred_f.unique().int():\n",
    "    if i < len(dataset.classname_f):\n",
    "        print(int(i), dataset.classname_f[i])\n",
    "\n",
    "visualize_img(img, normalize)\n",
    "visualize_seg(pred_c, cmap_c)\n",
    "visualize_seg(pred_f, cmap_f)"
   ]
  },
  {
   "cell_type": "code",
   "execution_count": null,
   "id": "0bfcc9e5-09ee-4be5-ac42-4ce81ae7d5ed",
   "metadata": {},
   "outputs": [],
   "source": []
  }
 ],
 "metadata": {
  "kernelspec": {
   "display_name": "Python 3 (ipykernel)",
   "language": "python",
   "name": "python3"
  },
  "language_info": {
   "codemirror_mode": {
    "name": "ipython",
    "version": 3
   },
   "file_extension": ".py",
   "mimetype": "text/x-python",
   "name": "python",
   "nbconvert_exporter": "python",
   "pygments_lexer": "ipython3",
   "version": "3.9.18"
  }
 },
 "nbformat": 4,
 "nbformat_minor": 5
}
