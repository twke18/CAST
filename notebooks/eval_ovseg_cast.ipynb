{
 "cells": [
  {
   "cell_type": "code",
   "execution_count": 2,
   "id": "f3e48b3d-19df-40fd-a85c-d6e675e1f144",
   "metadata": {},
   "outputs": [],
   "source": [
    "%matplotlib inline\n",
    "import os\n",
    "import sys\n",
    "from functools import partial\n",
    "\n",
    "import torch\n",
    "import torchvision.transforms as T\n",
    "from torchvision.transforms.functional import InterpolationMode\n",
    "from open_clip import create_model_and_transforms, get_tokenizer\n",
    "\n",
    "import numpy as np\n",
    "from torchmetrics import JaccardIndex\n",
    "\n",
    "from dataset import PartImageNetWithMask, PredictedMask\n",
    "from utils import TextFeatures, get_masked_pred_c, get_masked_pred_f"
   ]
  },
  {
   "cell_type": "code",
   "execution_count": 3,
   "id": "d3b3c04a-e1c9-48f3-8426-c5e6f0211b4b",
   "metadata": {},
   "outputs": [],
   "source": [
    "device = \"cuda:0\"\n",
    "torch.cuda.set_device(device)\n",
    "\n",
    "clip, _, clip_transform = create_model_and_transforms('ViT-B-16', pretrained='openai')\n",
    "tokenizer = get_tokenizer('ViT-B-16')\n",
    "\n",
    "clip = clip.to(device)\n",
    "\n",
    "normalize = clip_transform.transforms[-1]\n",
    "img_transform = T.Compose([\n",
    "    T.Resize(224, interpolation=InterpolationMode.BICUBIC),\n",
    "    T.CenterCrop([224, 224]),\n",
    "])\n",
    "seg_transform = T.Compose([\n",
    "    T.Resize(224, interpolation=InterpolationMode.NEAREST),\n",
    "    T.CenterCrop([224, 224]),\n",
    "])"
   ]
  },
  {
   "cell_type": "code",
   "execution_count": 4,
   "id": "dc38a154-08fc-4793-aab1-d25c92f4d816",
   "metadata": {},
   "outputs": [
    {
     "name": "stdout",
     "output_type": "stream",
     "text": [
      "loading annotations into memory...\n",
      "Done (t=0.31s)\n",
      "creating index...\n",
      "index created!\n",
      "loading annotations into memory...\n",
      "Done (t=0.13s)\n",
      "creating index...\n",
      "index created!\n",
      "loading annotations into memory...\n",
      "Done (t=0.25s)\n",
      "creating index...\n",
      "index created!\n"
     ]
    }
   ],
   "source": [
    "DATA_ROOT = '../data/PartImageNet/'\n",
    "SAVE_ROOT = '../pred_segs/'\n",
    "\n",
    "model_name = \"cast_base\"\n",
    "# model_name = \"vit_base\"\n",
    "\n",
    "img_root = os.path.join(DATA_ROOT, 'images/val')\n",
    "ano_root = os.path.join(DATA_ROOT, 'annotations/val.json')\n",
    "\n",
    "pred_c_root = os.path.join(SAVE_ROOT, model_name, 'level4')\n",
    "pred_f_root = os.path.join(SAVE_ROOT, model_name, 'level3')\n",
    "\n",
    "# Output: image, seg_c, seg_f\n",
    "dataset = PartImageNetWithMask(img_root, ano_root, clip_transform, seg_transform)\n",
    "\n",
    "# Predicted segments by CAST or ViT\n",
    "mask_dataset_c = PredictedMask(pred_c_root, ano_root)\n",
    "mask_dataset_f = PredictedMask(pred_f_root, ano_root)"
   ]
  },
  {
   "cell_type": "code",
   "execution_count": 5,
   "id": "817bbc83-1fd6-45f7-9326-e9b7639e60c4",
   "metadata": {},
   "outputs": [
    {
     "name": "stdout",
     "output_type": "stream",
     "text": [
      "['Quadruped', 'Biped', 'Fish', 'Bird', 'Snake', 'Reptile', 'Car', 'Bicycle', 'Boat', 'Aeroplane', 'Bottle']\n",
      "['Quadruped Head', 'Quadruped Body', 'Quadruped Foot', 'Quadruped Tail', 'Biped Head', 'Biped Body', 'Biped Hand', 'Biped Foot', 'Biped Tail', 'Fish Head', 'Fish Body', 'Fish Fin', 'Fish Tail', 'Bird Head', 'Bird Body', 'Bird Wing', 'Bird Foot', 'Bird Tail', 'Snake Head', 'Snake Body', 'Reptile Head', 'Reptile Body', 'Reptile Foot', 'Reptile Tail', 'Car Body', 'Car Tier', 'Car Side Mirror', 'Bicycle Body', 'Bicycle Head', 'Bicycle Seat', 'Bicycle Tier', 'Boat Body', 'Boat Sail', 'Aeroplane Head', 'Aeroplane Body', 'Aeroplane Engine', 'Aeroplane Wing', 'Aeroplane Tail', 'Bottle Mouth', 'Bottle Body']\n"
     ]
    }
   ],
   "source": [
    "print(dataset.classname_c)\n",
    "print(dataset.classname_f)\n",
    "\n",
    "text_features = TextFeatures(clip, tokenizer,\n",
    "                             dataset.classname_c,\n",
    "                             dataset.classname_f)\n",
    "\n",
    "# names = {}\n",
    "# for c in dataset.classname_c:\n",
    "#     names[c] = [f for f in dataset.classname_f if c in f]\n",
    "# cmap_c, cmap_f = create_colormap(names)"
   ]
  },
  {
   "cell_type": "code",
   "execution_count": 6,
   "id": "7dc554bb-feb7-485b-b55a-d8de1c3a9359",
   "metadata": {},
   "outputs": [
    {
     "name": "stdout",
     "output_type": "stream",
     "text": [
      "100/2957    35.98/16.58\n",
      "200/2957    34.37/15.45\n",
      "300/2957    29.89/13.23\n",
      "400/2957    27.48/12.28\n",
      "500/2957    26.26/11.86\n",
      "600/2957    25.83/12.38\n",
      "700/2957    25.73/12.83\n",
      "800/2957    25.83/13.35\n",
      "900/2957    25.42/13.66\n",
      "1000/2957    25.21/13.46\n",
      "1100/2957    24.49/13.00\n",
      "1200/2957    24.17/12.77\n",
      "1300/2957    23.80/12.52\n",
      "1400/2957    24.17/12.59\n",
      "1500/2957    24.47/12.64\n",
      "1600/2957    24.83/12.69\n",
      "1700/2957    25.41/12.78\n",
      "1800/2957    26.01/12.85\n",
      "1900/2957    26.60/12.91\n",
      "2000/2957    27.19/13.02\n",
      "2100/2957    27.68/13.08\n",
      "2200/2957    28.24/13.16\n",
      "2300/2957    28.54/13.16\n",
      "2400/2957    29.03/13.25\n",
      "2500/2957    29.37/13.28\n",
      "2600/2957    29.62/13.25\n",
      "2700/2957    29.71/13.23\n",
      "2800/2957    30.03/13.30\n",
      "2900/2957    29.83/13.23\n",
      "2957/2957    29.67/13.21\n"
     ]
    }
   ],
   "source": [
    "def print_values():\n",
    "    print(\"{:d}/{:d}    {:.2f}/{:.2f}\".format(\n",
    "        index + 1, len(dataset),\n",
    "        np.mean(accs_c) * 100, np.mean(accs_f) * 100,\n",
    "    ))\n",
    "\n",
    "jaccard_c = JaccardIndex(task=\"multiclass\", num_classes=11+1)\n",
    "jaccard_f = JaccardIndex(task=\"multiclass\", num_classes=40+1)\n",
    "\n",
    "accs_c, accs_f = [], []\n",
    "for index in range(len(dataset)):\n",
    "    try:\n",
    "        img, seg_c, seg_f = dataset[index]\n",
    "\n",
    "        mask_c = mask_dataset_c[index]\n",
    "        mask_f = mask_dataset_f[index]\n",
    "    \n",
    "        pred_c = get_masked_pred_c(clip, text_features, img, mask_c)\n",
    "        pred_f = get_masked_pred_f(clip, text_features, img, mask_f, pred_c)\n",
    "        \n",
    "        accs_c.append(jaccard_c(pred_c, seg_c).item())\n",
    "        accs_f.append(jaccard_f(pred_f, seg_f).item())\n",
    "    except:\n",
    "        pass\n",
    "    \n",
    "    if (index + 1) % 100 == 0:\n",
    "        print_values()\n",
    "\n",
    "index = len(dataset) - 1\n",
    "print_values()"
   ]
  },
  {
   "cell_type": "code",
   "execution_count": null,
   "id": "ac271d72-18dd-48f4-963d-2c466f950d66",
   "metadata": {},
   "outputs": [],
   "source": []
  }
 ],
 "metadata": {
  "kernelspec": {
   "display_name": "Python 3 (ipykernel)",
   "language": "python",
   "name": "python3"
  },
  "language_info": {
   "codemirror_mode": {
    "name": "ipython",
    "version": 3
   },
   "file_extension": ".py",
   "mimetype": "text/x-python",
   "name": "python",
   "nbconvert_exporter": "python",
   "pygments_lexer": "ipython3",
   "version": "3.9.18"
  }
 },
 "nbformat": 4,
 "nbformat_minor": 5
}
